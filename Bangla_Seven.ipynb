{
 "cells": [
  {
   "cell_type": "code",
   "execution_count": 3,
   "id": "10cc0149",
   "metadata": {},
   "outputs": [
    {
     "name": "stdout",
     "output_type": "stream",
     "text": [
      "Image Shape: (174, 284)\n"
     ]
    }
   ],
   "source": [
    "import numpy as np\n",
    "import cv2\n",
    "\n",
    "Gray_Seven = cv2.imread(\"Bangla_7.png\",0)\n",
    "cv2.imshow(\"Seven\",Gray_Seven)\n",
    "cv2.waitKey(0)\n",
    "cv2.destroyAllWindows()\n",
    "\n",
    "image_array = np.array(Gray_Seven)\n",
    "print(\"Image Shape:\", image_array.shape)"
   ]
  },
  {
   "cell_type": "code",
   "execution_count": 4,
   "id": "e901c1c2",
   "metadata": {},
   "outputs": [
    {
     "name": "stdout",
     "output_type": "stream",
     "text": [
      "[[254 255 255 255 255 255 255 255 255 255 255 255 255 255 255 255 255 255]\n",
      " [254 255 255 255 255 255 255 255 255 255 255 255 255 255 255 255 255 255]\n",
      " [254 255 255 255 255 255 255 255 255 255 255 255 255 255 255 255 255 255]\n",
      " [254 255 255 255 255 255 255 255 254 254 255 255 255 255 255 255 255 255]\n",
      " [254 255 255 255 255 255 255   3   5   8 255 255 255 255 255 255 255 255]\n",
      " [254 255 255 255 255 255 245   3 252   1 254 255 255 255 255 255 255 255]\n",
      " [254 255 255 255 255 255  18 248 255 193 253 255 255 255 255 255 255 255]\n",
      " [254 255 255 255 255 255   1 253 255 254 244 255 255 255 255 255 255 255]\n",
      " [254 255 255 255 255 255   1 243 255 253  57 255 255 255 255 255 255 255]\n",
      " [254 255 255 255 255 255 254   3   1   1  16 255 255 255 255 255 255 255]\n",
      " [254 255 255 255 255 255 255 232 173 169   8 255 255 255 255 255 255 255]\n",
      " [254 255 255 255 255 255 255 255 255 254  17 255 255 255 255 255 255 255]\n",
      " [254 255 255 255 255 255 255 255 255 254  23 255 255 255 255 255 255 255]\n",
      " [254 255 255 255 255 255 255 255 255 254  27 255 255 255 255 255 255 255]\n",
      " [254 255 255 255 255 255 255 255 255 254   1 255 255 255 255 255 255 255]\n",
      " [254 255 255 255 255 255 255 255 255 254   2 251 255 255 255 255 255 255]\n",
      " [254 255 255 255 255 255 255 255 255 255  65 255 255 255 255 255 255 255]\n",
      " [254 255 255 255 255 255 255 255 255 255 255 255 255 255 255 255 255 255]\n",
      " [254 255 255 255 255 255 255 255 255 255 255 255 255 255 255 255 255 255]\n",
      " [254 255 255 255 255 255 255 255 255 255 255 255 255 255 255 255 255 255]]\n"
     ]
    }
   ],
   "source": [
    "resized_Seven = cv2.resize(Gray_Seven, (18, 20))\n",
    "cv2.imshow(\"Bangla Seven\",resized_Seven)\n",
    "cv2.waitKey(0)\n",
    "cv2.destroyAllWindows()\n",
    "\n",
    "image_Matrix7 = np.array(resized_Seven)\n",
    "print(image_Matrix7)"
   ]
  },
  {
   "cell_type": "code",
   "execution_count": null,
   "id": "5f628dfe",
   "metadata": {},
   "outputs": [],
   "source": []
  }
 ],
 "metadata": {
  "kernelspec": {
   "display_name": "Python 3 (ipykernel)",
   "language": "python",
   "name": "python3"
  },
  "language_info": {
   "codemirror_mode": {
    "name": "ipython",
    "version": 3
   },
   "file_extension": ".py",
   "mimetype": "text/x-python",
   "name": "python",
   "nbconvert_exporter": "python",
   "pygments_lexer": "ipython3",
   "version": "3.9.12"
  }
 },
 "nbformat": 4,
 "nbformat_minor": 5
}
