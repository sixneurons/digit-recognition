{
 "cells": [
  {
   "cell_type": "code",
   "execution_count": 1,
   "id": "10cc0149",
   "metadata": {},
   "outputs": [
    {
     "name": "stdout",
     "output_type": "stream",
     "text": [
      "Image Shape: (173, 263)\n"
     ]
    }
   ],
   "source": [
    "import numpy as np\n",
    "import cv2\n",
    "\n",
    "Gray_Four = cv2.imread(\"Bangla_4.png\",0)\n",
    "cv2.imshow(\"one\",Gray_Four)\n",
    "cv2.waitKey(0)\n",
    "cv2.destroyAllWindows()\n",
    "\n",
    "image_array = np.array(Gray_Four)\n",
    "print(\"Image Shape:\", image_array.shape)"
   ]
  },
  {
   "cell_type": "code",
   "execution_count": 3,
   "id": "e901c1c2",
   "metadata": {},
   "outputs": [
    {
     "name": "stdout",
     "output_type": "stream",
     "text": [
      "[[255 255 255 255 255 255 255 255 255 255 255 255 255 255 255 255 255 255]\n",
      " [255 255 255 255 255 255 255 255 255 255 255 255 255 255 255 255 255 255]\n",
      " [255 255 255 255 255 255 255 255 253 251 255 255 255 255 255 255 255 255]\n",
      " [255 255 255 255 255 255 255 240   7   3   4 255 255 255 255 255 255 255]\n",
      " [255 255 255 255 255 255 252   6 254 252   7 253 255 255 255 255 255 255]\n",
      " [255 255 255 255 255 255 253   1 255 255 253 254 255 255 255 255 255 255]\n",
      " [255 255 255 255 255 255 253   0 253 253   4 254 255 255 255 255 255 255]\n",
      " [255 255 255 255 255 255 254   5 224 252   9 254 255 255 255 255 255 255]\n",
      " [255 255 255 255 255 255 255  17   1   3 251 255 255 255 255 255 255 255]\n",
      " [255 255 255 255 255 255 255 244   3   4   2 255 255 255 255 255 255 255]\n",
      " [255 255 255 255 255 255 250   9 245 253   1 171 255 255 255 255 255 255]\n",
      " [255 255 255 255 255 255 229   3 255 255 135   1 255 255 255 255 255 255]\n",
      " [255 255 255 255 255 255 169  14 255 255 249   4 255 255 255 255 255 255]\n",
      " [255 255 255 255 255 255 250   1 254 253  10 225 255 255 255 255 255 255]\n",
      " [255 255 255 255 255 255 251   0   1   6   8 255 255 255 255 255 255 255]\n",
      " [255 255 255 255 255 255 255 251 231 244 253 255 255 255 255 255 255 255]\n",
      " [255 255 255 255 255 255 255 255 255 255 255 255 255 255 255 255 255 255]\n",
      " [255 255 255 255 255 255 255 255 255 255 255 255 255 255 255 255 255 255]\n",
      " [255 255 255 255 255 255 255 255 255 255 255 255 255 255 255 255 255 255]\n",
      " [255 255 255 255 255 255 255 255 255 255 255 255 255 255 255 255 255 255]]\n"
     ]
    }
   ],
   "source": [
    "resized_Four = cv2.resize(Gray_Four, (18, 20))\n",
    "cv2.imshow(\"Bangla One\",resized_Four)\n",
    "cv2.waitKey(0)\n",
    "cv2.destroyAllWindows()\n",
    "\n",
    "image_Matrix4 = np.array(resized_Four)\n",
    "print(image_Matrix4)"
   ]
  },
  {
   "cell_type": "code",
   "execution_count": null,
   "id": "5f628dfe",
   "metadata": {},
   "outputs": [],
   "source": []
  },
  {
   "cell_type": "code",
   "execution_count": null,
   "id": "779acf27",
   "metadata": {},
   "outputs": [],
   "source": []
  }
 ],
 "metadata": {
  "kernelspec": {
   "display_name": "Python 3 (ipykernel)",
   "language": "python",
   "name": "python3"
  },
  "language_info": {
   "codemirror_mode": {
    "name": "ipython",
    "version": 3
   },
   "file_extension": ".py",
   "mimetype": "text/x-python",
   "name": "python",
   "nbconvert_exporter": "python",
   "pygments_lexer": "ipython3",
   "version": "3.9.12"
  }
 },
 "nbformat": 4,
 "nbformat_minor": 5
}
