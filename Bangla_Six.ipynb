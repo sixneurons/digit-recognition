{
 "cells": [
  {
   "cell_type": "code",
   "execution_count": null,
   "id": "10cc0149",
   "metadata": {},
   "outputs": [],
   "source": [
    "import numpy as np\n",
    "import cv2\n",
    "\n",
    "Gray_Six = cv2.imread(\"Bangla_6.png\",0)\n",
    "cv2.imshow(\"Six\",Gray_Six)\n",
    "cv2.waitKey(0)\n",
    "cv2.destroyAllWindows()\n",
    "\n",
    "image_array = np.array(Gray_Six)\n",
    "print(\"Image Shape:\", image_array.shape)"
   ]
  },
  {
   "cell_type": "code",
   "execution_count": null,
   "id": "e901c1c2",
   "metadata": {},
   "outputs": [],
   "source": [
    "resized_Six = cv2.resize(Gray_Six, (18, 20))\n",
    "cv2.imshow(\"Bangla Six\",resized_Six)\n",
    "cv2.waitKey(0)\n",
    "cv2.destroyAllWindows()\n",
    "\n",
    "image_Matrix6 = np.array(resized_Six)\n",
    "print(image_Matrix6)"
   ]
  },
  {
   "cell_type": "code",
   "execution_count": null,
   "id": "5f628dfe",
   "metadata": {},
   "outputs": [],
   "source": []
  }
 ],
 "metadata": {
  "kernelspec": {
   "display_name": "Python 3 (ipykernel)",
   "language": "python",
   "name": "python3"
  },
  "language_info": {
   "codemirror_mode": {
    "name": "ipython",
    "version": 3
   },
   "file_extension": ".py",
   "mimetype": "text/x-python",
   "name": "python",
   "nbconvert_exporter": "python",
   "pygments_lexer": "ipython3",
   "version": "3.9.12"
  }
 },
 "nbformat": 4,
 "nbformat_minor": 5
}
