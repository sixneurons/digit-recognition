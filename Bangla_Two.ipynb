{
 "cells": [
  {
   "cell_type": "code",
   "execution_count": 1,
   "id": "10cc0149",
   "metadata": {},
   "outputs": [
    {
     "name": "stdout",
     "output_type": "stream",
     "text": [
      "Image Shape: (173, 237)\n"
     ]
    }
   ],
   "source": [
    "import numpy as np\n",
    "import cv2\n",
    "\n",
    "Gray_Two = cv2.imread(\"Bangla_2.png\",0)\n",
    "cv2.imshow(\"Two\",Gray_Two)\n",
    "cv2.waitKey(0)\n",
    "cv2.destroyAllWindows()\n",
    "\n",
    "image_array = np.array(Gray_Two)\n",
    "print(\"Image Shape:\", image_array.shape)"
   ]
  },
  {
   "cell_type": "code",
   "execution_count": 4,
   "id": "e901c1c2",
   "metadata": {},
   "outputs": [
    {
     "name": "stdout",
     "output_type": "stream",
     "text": [
      "[[255 255 255 255 255 255 255 255 255 255 255 255 255 255 255 255 255 255]\n",
      " [255 255 255 255 255 255 255 255 255 255 255 255 255 255 255 255 255 255]\n",
      " [255 255 255 255 255 255 255 255 255 255 255 255 255 255 255 255 255 255]\n",
      " [255 255 255 255 255 255 255 255 255 255 255 255 255 255 255 255 255 255]\n",
      " [255 255 255 255 255 255 255 126 254 255 255 255 255 255 255 255 255 255]\n",
      " [255 255 255 255 255 255 255   3 112 255 255 255 255 255 255 255 255 255]\n",
      " [255 255 255 255 255 255 255   4   4 166 253 255 255 255 255 255 255 255]\n",
      " [255 255 255 255 255 255 255 251   4   4 249 255 255 255 255 255 255 255]\n",
      " [255 255 255 255 255 255 255 255 254   7   7 255 255 255 255 255 255 255]\n",
      " [255 255 255 255 255 254 255 255 255 255  10 255 255 255 255 255 255 255]\n",
      " [255 255 255 255 255 248 241 255 255 255 196 254 255 255 255 255 255 255]\n",
      " [255 255 255 255 255 250   2 255 254 253  21 254 255 255 255 255 255 255]\n",
      " [255 255 255 255 255 254   4   3  25   6  10 254 255 255 255 255 255 255]\n",
      " [255 255 255 255 255 255   7   2   2   6 254 255 255 255 255 255 255 255]\n",
      " [255 255 255 255 255 255 252  25   1 143 255 255 255 255 255 255 255 255]\n",
      " [255 255 255 255 255 255 255 255 251   4 221 255 255 255 255 255 255 255]\n",
      " [255 255 255 255 255 255 255 255 255 252   5 253 255 255 255 255 255 255]\n",
      " [255 255 255 255 255 255 255 255 255 255 253   9 255 255 255 255 255 255]\n",
      " [255 255 255 255 255 255 255 255 255 255 253 252 162 255 255 255 255 255]\n",
      " [255 255 255 255 255 255 255 255 255 255 255 255 241 255 255 255 255 255]]\n"
     ]
    }
   ],
   "source": [
    "resized_Two = cv2.resize(Gray_Two, (18, 20))\n",
    "cv2.imshow(\"Bangla Two\",resized_Two)\n",
    "cv2.waitKey(0)\n",
    "cv2.destroyAllWindows()\n",
    "\n",
    "image_Matrix2 = np.array(resized_Two)\n",
    "print(image_Matrix2)"
   ]
  },
  {
   "cell_type": "code",
   "execution_count": null,
   "id": "5f628dfe",
   "metadata": {},
   "outputs": [],
   "source": []
  }
 ],
 "metadata": {
  "kernelspec": {
   "display_name": "Python 3 (ipykernel)",
   "language": "python",
   "name": "python3"
  },
  "language_info": {
   "codemirror_mode": {
    "name": "ipython",
    "version": 3
   },
   "file_extension": ".py",
   "mimetype": "text/x-python",
   "name": "python",
   "nbconvert_exporter": "python",
   "pygments_lexer": "ipython3",
   "version": "3.9.12"
  }
 },
 "nbformat": 4,
 "nbformat_minor": 5
}
