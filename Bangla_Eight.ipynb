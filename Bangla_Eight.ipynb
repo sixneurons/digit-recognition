{
 "cells": [
  {
   "cell_type": "code",
   "execution_count": 1,
   "id": "10cc0149",
   "metadata": {},
   "outputs": [
    {
     "name": "stdout",
     "output_type": "stream",
     "text": [
      "Image Shape: (176, 216)\n"
     ]
    }
   ],
   "source": [
    "import numpy as np\n",
    "import cv2\n",
    "\n",
    "Gray_Eight = cv2.imread(\"Bangla_8.png\",0)\n",
    "cv2.imshow(\"Two\",Gray_Eight)\n",
    "cv2.waitKey(0)\n",
    "cv2.destroyAllWindows()\n",
    "\n",
    "image_array = np.array(Gray_Eight)\n",
    "print(\"Image Shape:\", image_array.shape)"
   ]
  },
  {
   "cell_type": "code",
   "execution_count": 2,
   "id": "e901c1c2",
   "metadata": {},
   "outputs": [
    {
     "name": "stdout",
     "output_type": "stream",
     "text": [
      "[[254 254 254 254 254 254 254 254 254 254 254 254 254 254 254 254 254 254]\n",
      " [255 255 255 255 255 255 255 255 255 255 255 255 255 255 255 255 255 255]\n",
      " [255 255 255 255 255 255 255 255 255 255 255 255 255 255 255 255 255 255]\n",
      " [255 255 255 255 255 255 255 255 255 255 255 255 255 255 255 255 255 255]\n",
      " [255 255 255 255 255   2 233 255 255 255 255 255 255 255 255 255 255 255]\n",
      " [255 255 255 255 255   6   2 255 255 255 255 255 255 255 255 255 255 255]\n",
      " [255 255 255 255 255 178   3 255 255 255 255 255 255 255 255 255 255 255]\n",
      " [255 255 255 255 255 255   3 253 255 255 255 255 252 255 255 255 255 255]\n",
      " [255 255 255 255 255 253   4 134   1 246 253   2   8 254 255 255 255 255]\n",
      " [255 255 255 255 255 253   3   1   5   2   6   1   8 255 255 255 255 255]\n",
      " [255 255 255 255 255 253   4 255 255  50 143 253 254 255 255 255 255 255]\n",
      " [255 255 255 255 255 253   3 255 255  58   6 255 255 255 255 255 255 255]\n",
      " [255 255 255 255 255 254   3 255 255   9   3 255 255 255 255 255 255 255]\n",
      " [255 255 255 255 255 253   2 255 252   2 185 255 255 255 255 255 255 255]\n",
      " [255 255 255 255 255 252   6 252   8   4 250 255 255 255 255 255 255 255]\n",
      " [255 255 255 255 255 255  66   2   3 250 255 255 255 255 255 255 255 255]\n",
      " [255 255 255 255 255 255 254 227 249 255 255 255 255 255 255 255 255 255]\n",
      " [255 255 255 255 255 255 255 255 255 255 255 255 255 255 255 255 255 255]\n",
      " [255 255 255 255 255 255 255 255 255 255 255 255 255 255 255 255 255 255]\n",
      " [255 255 255 255 255 255 255 255 255 255 255 255 255 255 255 255 255 255]]\n"
     ]
    }
   ],
   "source": [
    "resized_Eight = cv2.resize(Gray_Eight, (18, 20))\n",
    "cv2.imshow(\"Bangla Eight\",resized_Eight)\n",
    "cv2.waitKey(0)\n",
    "cv2.destroyAllWindows()\n",
    "\n",
    "image_Matrix8 = np.array(resized_Eight)\n",
    "print(image_Matrix8)"
   ]
  },
  {
   "cell_type": "code",
   "execution_count": null,
   "id": "5f628dfe",
   "metadata": {},
   "outputs": [],
   "source": []
  }
 ],
 "metadata": {
  "kernelspec": {
   "display_name": "Python 3 (ipykernel)",
   "language": "python",
   "name": "python3"
  },
  "language_info": {
   "codemirror_mode": {
    "name": "ipython",
    "version": 3
   },
   "file_extension": ".py",
   "mimetype": "text/x-python",
   "name": "python",
   "nbconvert_exporter": "python",
   "pygments_lexer": "ipython3",
   "version": "3.9.12"
  }
 },
 "nbformat": 4,
 "nbformat_minor": 5
}
