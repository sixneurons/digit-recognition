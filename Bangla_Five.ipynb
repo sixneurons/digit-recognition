{
 "cells": [
  {
   "cell_type": "code",
   "execution_count": 1,
   "id": "10cc0149",
   "metadata": {},
   "outputs": [
    {
     "name": "stdout",
     "output_type": "stream",
     "text": [
      "Image Shape: (174, 270)\n"
     ]
    }
   ],
   "source": [
    "import numpy as np\n",
    "import cv2\n",
    "\n",
    "Gray_Five = cv2.imread(\"Bangla_5.png\",0)\n",
    "cv2.imshow(\"Five\",Gray_Five)\n",
    "cv2.waitKey(0)\n",
    "cv2.destroyAllWindows()\n",
    "\n",
    "image_array = np.array(Gray_Five)\n",
    "print(\"Image Shape:\", image_array.shape)"
   ]
  },
  {
   "cell_type": "code",
   "execution_count": 2,
   "id": "e901c1c2",
   "metadata": {
    "scrolled": true
   },
   "outputs": [
    {
     "name": "stdout",
     "output_type": "stream",
     "text": [
      "[[254 255 255 255 255 255 255 255 255 255 255 255 255 255 255 255 255 255]\n",
      " [254 255 255 255 255 255 255 255 255 255 255 255 255 255 255 255 255 255]\n",
      " [254 255 255 255 255 255 255 255 255 255 255 255 255 255 255 255 255 255]\n",
      " [254 255 255 255 255 255 255 255 255 250 254 255 255 255 255 255 255 255]\n",
      " [254 255 255 255 255 255 255 254 131   2  63 255 255 255 255 255 255 255]\n",
      " [254 255 255 255 255 255 255 254   3   7 253 255 255 255 255 255 255 255]\n",
      " [254 255 255 255 255 255 255   1  15 253  43 253 255 255 255 255 255 255]\n",
      " [254 255 255 255 255 255 254  14 251 255   1   5 252 255 255 255 255 255]\n",
      " [254 255 255 255 255 255 253  10 255 255   4   9 252 255 255 255 255 255]\n",
      " [254 255 255 255 255 255  14 254 255 171   2 255 255 255 255 255 255 255]\n",
      " [254 255 255 255 255 255   1 255 255   0 251 255 255 255 255 255 255 255]\n",
      " [254 255 255 255 255 255   1 255 255   2 254 255 255 255 255 255 255 255]\n",
      " [254 255 255 255 255 255  31 255 255   2 255 255 255 255 255 255 255 255]\n",
      " [254 255 255 255 255 255 255  25 255   0 255 255 255 255 255 255 255 255]\n",
      " [254 255 255 255 255 255 251  11 250   2 254 255 255 255 255 255 255 255]\n",
      " [254 255 255 255 255 255 255 247   3 116   2 254 255 255 255 255 255 255]\n",
      " [254 255 255 255 255 255 255 255 255 255 250 255 255 255 255 255 255 255]\n",
      " [254 255 255 255 255 255 255 255 255 255 255 255 255 255 255 255 255 255]\n",
      " [254 255 255 255 255 255 255 255 255 255 255 255 255 255 255 255 255 255]\n",
      " [254 255 255 255 255 255 255 255 255 255 255 255 255 255 255 255 255 255]]\n"
     ]
    }
   ],
   "source": [
    "resized_Five = cv2.resize(Gray_Five, (18, 20))\n",
    "cv2.imshow(\"Bangla Five\",resized_Five)\n",
    "cv2.waitKey(0)\n",
    "cv2.destroyAllWindows()\n",
    "\n",
    "image_Matrix5 = np.array(resized_Five)\n",
    "print(image_Matrix5)"
   ]
  }
 ],
 "metadata": {
  "kernelspec": {
   "display_name": "Python 3 (ipykernel)",
   "language": "python",
   "name": "python3"
  },
  "language_info": {
   "codemirror_mode": {
    "name": "ipython",
    "version": 3
   },
   "file_extension": ".py",
   "mimetype": "text/x-python",
   "name": "python",
   "nbconvert_exporter": "python",
   "pygments_lexer": "ipython3",
   "version": "3.9.12"
  }
 },
 "nbformat": 4,
 "nbformat_minor": 5
}
