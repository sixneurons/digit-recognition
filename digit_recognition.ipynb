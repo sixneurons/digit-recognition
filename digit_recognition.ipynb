{
 "cells": [
  {
   "cell_type": "code",
   "execution_count": 22,
   "metadata": {},
   "outputs": [],
   "source": [
    "import cv2\n",
    "import numpy as np\n",
    "import os"
   ]
  },
  {
   "cell_type": "code",
   "execution_count": 23,
   "metadata": {},
   "outputs": [
    {
     "name": "stdout",
     "output_type": "stream",
     "text": [
      "Filename: 0.png, Shape: (1200, 1200, 4)\n",
      "Filename: 1.png, Shape: (360, 360, 3)\n",
      "Filename: 2.png, Shape: (920, 920, 3)\n",
      "Filename: 3.png, Shape: (1024, 1024, 4)\n",
      "Filename: 4.png, Shape: (1200, 1200, 4)\n",
      "Filename: 5.png, Shape: (360, 360, 3)\n",
      "Filename: 6.png, Shape: (800, 800, 4)\n",
      "Filename: 7.png, Shape: (900, 900, 3)\n",
      "Filename: 8.png, Shape: (900, 900, 3)\n",
      "Filename: 9.png, Shape: (1200, 1200, 4)\n"
     ]
    }
   ],
   "source": [
    "# Directory containing the PNG files\n",
    "directory = 'image'  \n",
    "\n",
    "# List to store PNG images\n",
    "png_image_list = []\n",
    "\n",
    "# Loop through files in the directory\n",
    "for filename in os.listdir(directory):\n",
    "    if filename.endswith('.png'):\n",
    "        path = os.path.join(directory, filename)\n",
    "        image = cv2.imread(path, cv2.IMREAD_UNCHANGED)\n",
    "        png_image_list.append((filename, image))  # Tuple with filename and image\n",
    "\n",
    "for filename, image in png_image_list:\n",
    "    print(f\"Filename: {filename}, Shape: {image.shape}\")\n"
   ]
  },
  {
   "cell_type": "code",
   "execution_count": 24,
   "metadata": {},
   "outputs": [
    {
     "name": "stdout",
     "output_type": "stream",
     "text": [
      "Filename: 0.png, Shape: (500, 500, 4)\n",
      "Filename: 1.png, Shape: (500, 500, 3)\n",
      "Filename: 2.png, Shape: (500, 500, 3)\n",
      "Filename: 3.png, Shape: (500, 500, 4)\n",
      "Filename: 4.png, Shape: (500, 500, 4)\n",
      "Filename: 5.png, Shape: (500, 500, 3)\n",
      "Filename: 6.png, Shape: (500, 500, 4)\n",
      "Filename: 7.png, Shape: (500, 500, 3)\n",
      "Filename: 8.png, Shape: (500, 500, 3)\n",
      "Filename: 9.png, Shape: (500, 500, 4)\n"
     ]
    }
   ],
   "source": [
    "new_list = []\n",
    "array_list=[]\n",
    "\n",
    "for filename, image in png_image_list:\n",
    "    # Resize the image\n",
    "    resized_image = cv2.resize(image, (500, 500))\n",
    "      \n",
    "    # Convert the resized image to grayscale\n",
    "    #grayscale_image = cv2.cvtColor(resized_image, cv2.COLOR_BGR2GRAY)\n",
    "\n",
    "    matrix=np.array (resized_image)\n",
    "    array_list.append((filename, matrix))\n",
    "    new_list.append((filename, resized_image))\n",
    "\n",
    "# Display the list\n",
    "for filename, image in new_list:\n",
    "    print(f\"Filename: {filename}, Shape: {image.shape}\")\n"
   ]
  },
  {
   "cell_type": "code",
   "execution_count": 25,
   "metadata": {},
   "outputs": [
    {
     "name": "stdout",
     "output_type": "stream",
     "text": [
      "Filename: 0.png, Shape: (500, 500, 4)\n",
      "Filename: 1.png, Shape: (500, 500, 4)\n",
      "Filename: 2.png, Shape: (500, 500, 4)\n",
      "Filename: 3.png, Shape: (500, 500, 4)\n",
      "Filename: 4.png, Shape: (500, 500, 4)\n",
      "Filename: 5.png, Shape: (500, 500, 4)\n",
      "Filename: 6.png, Shape: (500, 500, 4)\n",
      "Filename: 7.png, Shape: (500, 500, 4)\n",
      "Filename: 8.png, Shape: (500, 500, 4)\n",
      "Filename: 9.png, Shape: (500, 500, 4)\n"
     ]
    }
   ],
   "source": [
    "for filename, image in array_list:\n",
    "    print(f\"Filename: {filename}, Shape: {matrix.shape}\")"
   ]
  },
  {
   "cell_type": "code",
   "execution_count": 26,
   "metadata": {},
   "outputs": [
    {
     "name": "stdout",
     "output_type": "stream",
     "text": [
      "Key: 0, Filename: 0.png, Matrix Shape: (500, 500, 4)\n",
      "Key: 1, Filename: 1.png, Matrix Shape: (500, 500, 3)\n",
      "Key: 2, Filename: 2.png, Matrix Shape: (500, 500, 3)\n",
      "Key: 3, Filename: 3.png, Matrix Shape: (500, 500, 4)\n",
      "Key: 4, Filename: 4.png, Matrix Shape: (500, 500, 4)\n",
      "Key: 5, Filename: 5.png, Matrix Shape: (500, 500, 3)\n",
      "Key: 6, Filename: 6.png, Matrix Shape: (500, 500, 4)\n",
      "Key: 7, Filename: 7.png, Matrix Shape: (500, 500, 3)\n",
      "Key: 8, Filename: 8.png, Matrix Shape: (500, 500, 3)\n",
      "Key: 9, Filename: 9.png, Matrix Shape: (500, 500, 4)\n"
     ]
    }
   ],
   "source": [
    "\n",
    "# Convert the list to a dictionary with keys 0 to 8\n",
    "array_dict = {i: (filename, matrix) for i, (filename, matrix) in enumerate(array_list)}\n",
    "\n",
    "# Display the dictionary\n",
    "for key, (filename, matrix) in array_dict.items():\n",
    "    print(f\"Key: {key}, Filename: {filename}, Matrix Shape: {matrix.shape}\")\n"
   ]
  },
  {
   "cell_type": "code",
   "execution_count": 30,
   "metadata": {},
   "outputs": [],
   "source": [
    "image_no=input()\n",
    "path=\"image/\"+image_no+\".png\"\n",
    "image = cv2.imread(path, cv2.IMREAD_UNCHANGED)\n",
    "\n",
    "resize_image=cv2.resize(image,(500,500))\n"
   ]
  },
  {
   "cell_type": "code",
   "execution_count": 31,
   "metadata": {},
   "outputs": [
    {
     "name": "stdout",
     "output_type": "stream",
     "text": [
      "The matching key is: 7\n"
     ]
    }
   ],
   "source": [
    "image_array= np.array(resize_image)\n",
    "\n",
    "# Find the key for the matching matrix\n",
    "matching_key = None\n",
    "for key, (_, matrix) in array_dict.items():\n",
    "    if np.array_equal(matrix, image_array):\n",
    "        matching_key = key\n",
    "        break\n",
    "\n",
    "# Display the result\n",
    "if matching_key is not None:\n",
    "    print(f\"The matching key is: {matching_key}\")\n",
    "else:\n",
    "    print(\"No matching key found.\")"
   ]
  }
 ],
 "metadata": {
  "kernelspec": {
   "display_name": "Python 3",
   "language": "python",
   "name": "python3"
  },
  "language_info": {
   "codemirror_mode": {
    "name": "ipython",
    "version": 3
   },
   "file_extension": ".py",
   "mimetype": "text/x-python",
   "name": "python",
   "nbconvert_exporter": "python",
   "pygments_lexer": "ipython3",
   "version": "3.10.6"
  }
 },
 "nbformat": 4,
 "nbformat_minor": 2
}
