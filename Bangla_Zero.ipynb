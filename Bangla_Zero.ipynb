{
 "cells": [
  {
   "cell_type": "code",
   "execution_count": 1,
   "id": "10cc0149",
   "metadata": {},
   "outputs": [
    {
     "name": "stdout",
     "output_type": "stream",
     "text": [
      "Image Shape: (155, 115)\n"
     ]
    }
   ],
   "source": [
    "import numpy as np\n",
    "import cv2\n",
    "\n",
    "Gray_Zero = cv2.imread(\"Bangla_0.png\",0)\n",
    "cv2.imshow(\"Zero\",Gray_Zero)\n",
    "cv2.waitKey(0)\n",
    "cv2.destroyAllWindows()\n",
    "\n",
    "image_array = np.array(Gray_Zero)\n",
    "print(\"Image Shape:\", image_array.shape)"
   ]
  },
  {
   "cell_type": "code",
   "execution_count": 2,
   "id": "e901c1c2",
   "metadata": {},
   "outputs": [
    {
     "name": "stdout",
     "output_type": "stream",
     "text": [
      "[[255 255 255 255 255 255 255 255 255 255 255 255 255 255 255 255 255 255]\n",
      " [255 255 255 255 255 255 255 255 255 255 255 255 255 255 255 255 255 255]\n",
      " [255 255 255 255 255 255 255 255 255 255 255 255 255 255 255 255 255 255]\n",
      " [255 255 255 255 255 255 255 255 255 255 255 255 255 255 255 255 255 255]\n",
      " [255 255 255 255 255 255 255 254 255 255 255 255 254 255 255 255 255 255]\n",
      " [255 255 255 255 254 249 245  19   4   4   9 245 249 253 255 255 255 255]\n",
      " [255 255 255 255 244   1   1   2   1   0   5   5   3 245 255 255 255 255]\n",
      " [255 255 253 252   5   1   5 110 242 254 254 251  50   3 252 255 255 255]\n",
      " [255 255 254   3   0   3 247 255 255 255 255 254 252   6   7 253 255 255]\n",
      " [255 255 253   2   2 198 255 255 255 255 255 255 252   2   2 253 255 255]\n",
      " [255 255 251   3   3 252 255 255 255 255 255 254 251   1   0 255 255 255]\n",
      " [252 255 252   1   1 253 255 255 255 255 254 250  98   4   5 254 255 255]\n",
      " [253 254 253  13   4 247 255 255 254 254 253 136   1   4  11 254 255 255]\n",
      " [255 255 255 250   6   8 251 248 252 232   3   2   2   6 243 255 255 255]\n",
      " [255 255 255 255 252   9   1   4   3   4   0  10  34 252 254 255 255 255]\n",
      " [255 255 255 255 255 254 252 252 196 204 252 254 255 254 255 255 255 255]\n",
      " [255 255 255 255 255 254 254 254 255 255 255 255 255 255 255 255 255 255]\n",
      " [255 255 255 255 255 255 255 255 255 255 255 255 255 255 255 255 255 255]\n",
      " [255 255 255 255 255 255 255 255 255 255 255 255 255 255 255 255 255 255]\n",
      " [255 255 255 255 255 255 255 255 255 255 255 255 255 255 255 255 255 255]]\n"
     ]
    }
   ],
   "source": [
    "resized_Zero = cv2.resize(Gray_Zero, (18, 20))\n",
    "cv2.imshow(\"Bangla Zero\",resized_Zero)\n",
    "cv2.waitKey(0)\n",
    "cv2.destroyAllWindows()\n",
    "\n",
    "image_Matrix0 = np.array(resized_Zero)\n",
    "print(image_Matrix0)"
   ]
  },
  {
   "cell_type": "code",
   "execution_count": null,
   "id": "5f628dfe",
   "metadata": {},
   "outputs": [],
   "source": []
  }
 ],
 "metadata": {
  "kernelspec": {
   "display_name": "Python 3 (ipykernel)",
   "language": "python",
   "name": "python3"
  },
  "language_info": {
   "codemirror_mode": {
    "name": "ipython",
    "version": 3
   },
   "file_extension": ".py",
   "mimetype": "text/x-python",
   "name": "python",
   "nbconvert_exporter": "python",
   "pygments_lexer": "ipython3",
   "version": "3.9.12"
  }
 },
 "nbformat": 4,
 "nbformat_minor": 5
}
