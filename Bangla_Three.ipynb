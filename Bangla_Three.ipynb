{
 "cells": [
  {
   "cell_type": "code",
   "execution_count": 1,
   "id": "10cc0149",
   "metadata": {},
   "outputs": [
    {
     "name": "stdout",
     "output_type": "stream",
     "text": [
      "Image Shape: (176, 278)\n"
     ]
    }
   ],
   "source": [
    "import numpy as np\n",
    "import cv2\n",
    "\n",
    "Gray_Three = cv2.imread(\"Bangla_3.png\",0)\n",
    "cv2.imshow(\"Three\",Gray_Three)\n",
    "cv2.waitKey(0)\n",
    "cv2.destroyAllWindows()\n",
    "\n",
    "image_array = np.array(Gray_Three)\n",
    "print(\"Image Shape:\", image_array.shape)"
   ]
  },
  {
   "cell_type": "code",
   "execution_count": 2,
   "id": "e901c1c2",
   "metadata": {},
   "outputs": [
    {
     "name": "stdout",
     "output_type": "stream",
     "text": [
      "[[254 255 255 255 255 255 255 255 255 255 255 255 255 255 255 255 255 255]\n",
      " [254 255 255 255 255 255 255 255 255 255 255 255 255 255 255 255 255 255]\n",
      " [254 255 255 255 255 255 255 255 255 255 255 255 255 255 255 255 255 255]\n",
      " [254 255 255 255 255 255 255 255 255 255 255 255 255 255 255 255 255 255]\n",
      " [254 255 255 255 255 255 255 255 255 253 255 255 255 255 255 255 255 255]\n",
      " [254 255 255 255 255 255 255 254 134   6 255 255 255 255 255 255 255 255]\n",
      " [254 255 255 255 255 251 255 254   2   2   7 255 255 255 255 255 255 255]\n",
      " [254 255 255 255 255 254 254 249   2   4  10 252 255 255 255 255 255 255]\n",
      " [254 255 255 255 255 254 252 252   2   2 248  78 255 255 255 255 255 255]\n",
      " [254 255 255 255 255 255 220 251   2   5 255   6 255 255 255 255 255 255]\n",
      " [254 255 255 255 255 255   3 255 237 245 255   6 255 255 255 255 255 255]\n",
      " [254 255 255 255 255 255   8 255 255 255 255   4 255 255 255 255 255 255]\n",
      " [254 255 255 255 255 255  94 245 255 255 254   3 255 255 255 255 255 255]\n",
      " [254 255 255 255 255 255 254   3 255 255   8  54 255 255 255 255 255 255]\n",
      " [254 255 255 255 255 255 255   3   2   2   1 249 255 255 255 255 255 255]\n",
      " [254 255 255 255 255 255 255 252   3   0   5 255 255 255 255 255 255 255]\n",
      " [254 255 255 255 255 255 255 255 253 250 255 255 255 255 255 255 255 255]\n",
      " [254 255 255 255 255 255 255 255 255 255 255 255 255 255 255 255 255 255]\n",
      " [254 255 255 255 255 255 255 255 255 255 255 255 255 255 255 255 255 255]\n",
      " [254 255 255 255 255 255 255 255 255 255 255 255 255 255 255 255 255 255]]\n"
     ]
    }
   ],
   "source": [
    "resized_Three = cv2.resize(Gray_Three, (18, 20))\n",
    "cv2.imshow(\"Bangla_Three\",resized_Three)\n",
    "cv2.waitKey(0)\n",
    "cv2.destroyAllWindows()\n",
    "\n",
    "image_Matrix3 = np.array(resized_Three)\n",
    "print(image_Matrix3)"
   ]
  },
  {
   "cell_type": "code",
   "execution_count": null,
   "id": "5f628dfe",
   "metadata": {},
   "outputs": [],
   "source": []
  }
 ],
 "metadata": {
  "kernelspec": {
   "display_name": "Python 3 (ipykernel)",
   "language": "python",
   "name": "python3"
  },
  "language_info": {
   "codemirror_mode": {
    "name": "ipython",
    "version": 3
   },
   "file_extension": ".py",
   "mimetype": "text/x-python",
   "name": "python",
   "nbconvert_exporter": "python",
   "pygments_lexer": "ipython3",
   "version": "3.9.12"
  }
 },
 "nbformat": 4,
 "nbformat_minor": 5
}
