{
 "cells": [
  {
   "cell_type": "code",
   "execution_count": 1,
   "id": "10cc0149",
   "metadata": {},
   "outputs": [
    {
     "name": "stdout",
     "output_type": "stream",
     "text": [
      "Image Shape: (170, 263)\n"
     ]
    }
   ],
   "source": [
    "import numpy as np\n",
    "import cv2\n",
    "\n",
    "Gray_Nine = cv2.imread(\"Bangla_9.png\",0)\n",
    "cv2.imshow(\"Nine\",Gray_Nine)\n",
    "cv2.waitKey(0)\n",
    "cv2.destroyAllWindows()\n",
    "\n",
    "image_array = np.array(Gray_Nine)\n",
    "print(\"Image Shape:\", image_array.shape)"
   ]
  },
  {
   "cell_type": "code",
   "execution_count": 2,
   "id": "e901c1c2",
   "metadata": {},
   "outputs": [
    {
     "name": "stdout",
     "output_type": "stream",
     "text": [
      "[[254 255 255 255 255 255 255 255 255 255 255 255 255 255 255 255 255 255]\n",
      " [255 255 255 255 255 255 255 255 255 255 255 255 255 255 255 255 255 255]\n",
      " [255 255 255 255 255 255 255 255 255 255 255 255 255 255 255 255 255 255]\n",
      " [255 255 255 255 255 255 244  16 255 255 255 255 255 255 255 255 255 255]\n",
      " [255 255 255 255 255 255   9   4 255 255 255 255 255 255 255 255 255 255]\n",
      " [255 255 255 255 255 255  84  21 255 255 255 255 255 255 255 255 255 255]\n",
      " [255 255 255 255 255 255 245   3  43 254 255 255 255 255 255 255 255 255]\n",
      " [255 255 255 255 255 255 254  74   2   9 254 255 255 255 255 255 255 255]\n",
      " [255 255 255 255 255 255 255 253  96   1   6 255 255 255 255 255 255 255]\n",
      " [255 255 255 255 255 255 255 255 252 251   2 236 255 255 255 255 255 255]\n",
      " [255 255 255 255 255 255 255   4   3 241 237   1 255 255 255 255 255 255]\n",
      " [255 255 255 255 255 254 246   9 248  13 255   4 255 255 255 255 255 255]\n",
      " [255 255 255 255 255 255   3 255 254   5 255   2 255 255 255 255 255 255]\n",
      " [255 255 255 255 255 255   1 253 254   2 254   3 255 255 255 255 255 255]\n",
      " [255 255 255 255 255 255   2   1 252   8   5   5 255 255 255 255 255 255]\n",
      " [255 255 255 255 255 255 202   2 250   4   3 253 255 255 255 255 255 255]\n",
      " [255 255 255 255 255 255 255 128 255 111 249 255 255 255 255 255 255 255]\n",
      " [255 255 255 255 255 255 255 254 255 255 255 255 255 255 255 255 255 255]\n",
      " [255 255 255 255 255 255 255 255 255 255 255 255 255 255 255 255 255 255]\n",
      " [255 255 255 255 255 255 255 255 255 255 255 255 255 255 255 255 255 255]]\n"
     ]
    }
   ],
   "source": [
    "resized_Nine = cv2.resize(Gray_Nine, (18, 20))\n",
    "cv2.imshow(\"Bangla Nine\",resized_Nine)\n",
    "cv2.waitKey(0)\n",
    "cv2.destroyAllWindows()\n",
    "\n",
    "image_Matrix9 = np.array(resized_Nine)\n",
    "print(image_Matrix9)"
   ]
  },
  {
   "cell_type": "code",
   "execution_count": null,
   "id": "5f628dfe",
   "metadata": {},
   "outputs": [],
   "source": []
  }
 ],
 "metadata": {
  "kernelspec": {
   "display_name": "Python 3 (ipykernel)",
   "language": "python",
   "name": "python3"
  },
  "language_info": {
   "codemirror_mode": {
    "name": "ipython",
    "version": 3
   },
   "file_extension": ".py",
   "mimetype": "text/x-python",
   "name": "python",
   "nbconvert_exporter": "python",
   "pygments_lexer": "ipython3",
   "version": "3.9.12"
  }
 },
 "nbformat": 4,
 "nbformat_minor": 5
}
